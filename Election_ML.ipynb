{
 "cells": [
  {
   "cell_type": "markdown",
   "metadata": {},
   "source": [
    "The data can be found at https://dataverse.harvard.edu/dataset.xhtml?persistentId=doi%3A10.7910/DVN/II2DB6\n",
    "\n",
    "It is the data from the Cooperative Congressional Election Study by YouGov.\n",
    "This part of the project involves multiple steps\n",
    "1. Getting the data\n",
    "2. Transforming the data so it fits our needs, by adding/removing certain parameters\n",
    "3. Vectorize the non-numeric values in our data source\n",
    "4. Use the data to create a data source for our network\n",
    "5. Train the network\n",
    "6. Test the network"
   ]
  },
  {
   "cell_type": "code",
   "execution_count": 13,
   "metadata": {},
   "outputs": [],
   "source": [
    "import pandas as pd\n",
    "import numpy as np\n",
    "import tensorflow as tf\n",
    "from tensorflow.python.framework.constant_op import convert_to_eager_tensor"
   ]
  },
  {
   "cell_type": "code",
   "execution_count": 11,
   "metadata": {},
   "outputs": [
    {
     "name": "stdout",
     "output_type": "stream",
     "text": [
      "        year    case_id    weight  weight_cumulative           state  st  \\\n",
      "392755  2018  410751329  0.808436           0.441945           Texas  TX   \n",
      "392756  2018  410766300  1.757688           0.960869            Ohio  OH   \n",
      "392757  2018  410770169  1.024198           0.559895        Kentucky  KY   \n",
      "392758  2018  410770285  0.461958           0.252537         Arizona  AZ   \n",
      "392759  2018  410099450  0.275367           0.150534    Pennsylvania  PA   \n",
      "392760  2018  410642421  0.977051           0.534121  North Carolina  NC   \n",
      "392761  2018  410932685  0.896677           0.490183    Pennsylvania  PA   \n",
      "392762  2018  411865891  1.338906           0.731935           Texas  TX   \n",
      "392763  2018  411864923  0.670503           0.366542         Arizona  AZ   \n",
      "392764  2018  411881120  0.818311           0.447343        Illinois  IL   \n",
      "\n",
      "           cd  dist  dist_up cong  ...   voted_rep_chosen    voted_sen_chosen  \\\n",
      "392755  TX-29    29       29  115  ...                                          \n",
      "392756   OH-1     1        1  115  ...   Steve Chabot (R)     Jim Renacci (R)   \n",
      "392757   KY-3     3        3  115  ...   John Yarmuth (D)                       \n",
      "392758   AZ-9     9        9  115  ...  Steve Ferrara (R)  Martha McSally (R)   \n",
      "392759   PA-3     3       16  115  ...                                          \n",
      "392760  NC-11    11       11  115  ...   Mark Meadows (R)                       \n",
      "392761   PA-3     3       16  115  ...     Mike Kelly (R)    Lou Barletta (R)   \n",
      "392762   TX-3     3        3  115  ...     Van Taylor (R)        Ted Cruz (R)   \n",
      "392763   AZ-5     5        5  115  ...     Andy Biggs (R)  Martha McSally (R)   \n",
      "392764   IL-5     5        5  115  ...                                          \n",
      "\n",
      "           voted_gov_chosen         rep_current  rep_icpsr  \\\n",
      "392755      Greg Abbott (R)      Gene Green (D)      39304   \n",
      "392756      Mike DeWine (R)    Steve Chabot (R)      29550   \n",
      "392757                         John Yarmuth (D)      20723   \n",
      "392758       Doug Ducey (R)  Kyrsten Sinema (D)      21300   \n",
      "392759  Scott R. Wagner (R)      Mike Kelly (R)      21167   \n",
      "392760                         Mark Meadows (R)      21348   \n",
      "392761  Scott R. Wagner (R)      Mike Kelly (R)      21167   \n",
      "392762      Greg Abbott (R)     Sam Johnson (R)      29143   \n",
      "392763       Doug Ducey (R)      Andy Biggs (R)      21705   \n",
      "392764                         Mike Quigley (D)      20954   \n",
      "\n",
      "               sen1_current  sen1_icpsr         sen2_current sen2_icpsr  \\\n",
      "392755      John Cornyn (R)       40305         Ted Cruz (R)      41304   \n",
      "392756      Rob Portman (R)       29386    Sherrod Brown (D)      29389   \n",
      "392757  Mitch McConnell (R)       14921        Rand Paul (R)      41104   \n",
      "392758       Jeff Flake (R)       20100          Jon Kyl (R)      15429   \n",
      "392759   Bob Casey, Jr. (D)       40703       Pat Toomey (R)      29935   \n",
      "392760     Richard Burr (R)       29548      Thom Tillis (R)      41504   \n",
      "392761   Bob Casey, Jr. (D)       40703       Pat Toomey (R)      29935   \n",
      "392762      John Cornyn (R)       40305         Ted Cruz (R)      41304   \n",
      "392763       Jeff Flake (R)       20100          Jon Kyl (R)      15429   \n",
      "392764      Dick Durbin (D)       15021  Tammy Duckworth (D)      21325   \n",
      "\n",
      "             gov_current  \n",
      "392755   Greg Abbott (R)  \n",
      "392756   John Kasich (R)  \n",
      "392757    Matt Bevin (R)  \n",
      "392758    Doug Ducey (R)  \n",
      "392759      Tom Wolf (D)  \n",
      "392760    Roy Cooper (D)  \n",
      "392761      Tom Wolf (D)  \n",
      "392762   Greg Abbott (R)  \n",
      "392763    Doug Ducey (R)  \n",
      "392764  Bruce Rauner (R)  \n",
      "\n",
      "[10 rows x 73 columns]\n"
     ]
    }
   ],
   "source": [
    "#reading in the data\n",
    "df = pd.DataFrame()\n",
    "df = pd.read_stata('election_data.dta')\n",
    "#filtering by year 2018, which holds 2016 election data. there is more data that predates this election\n",
    "df_2018 = df[df['year']==2018]\n",
    "df = df_2018\n",
    "print(df.head(10))"
   ]
  },
  {
   "cell_type": "markdown",
   "metadata": {},
   "source": [
    "#### So, the data is in 73 rows, however, we will use only some to train our model.\n",
    "The ones we will use are \n",
    "\n",
    "'st', 'dist', 'cong'(geography),\n",
    "\n",
    "'gender', 'birthyr', 'age', 'educ', 'race', 'faminc', 'marstat'(demographics),\n",
    "\n",
    "'newsint'(news interest),\n",
    "\n",
    "'approval_pres'(did they approve of 2016 president),\n",
    "\n",
    "'ideo5'(ideology), \n",
    "\n",
    "'voted_pres_16' - THIS IS THE OUTCOME, IT IS WHAT WE WILL BE TRAINING AND TESTING ON\n"
   ]
  },
  {
   "cell_type": "code",
   "execution_count": 14,
   "metadata": {},
   "outputs": [
    {
     "data": {
      "text/plain": [
       "(46206, 14)"
      ]
     },
     "execution_count": 14,
     "metadata": {},
     "output_type": "execute_result"
    }
   ],
   "source": [
    "#filtering by these and dropping NaNs,\n",
    "df = df_2018\n",
    "df = df.filter(['st', 'dist', 'cong', 'gender', 'birthyr', 'age', 'educ', 'race', 'faminc', 'marstat','newsint','approval_pres','ideo5', 'voted_pres_16'])\n",
    "df = df.dropna()\n",
    "df.reset_index(drop=True, inplace=True)\n",
    "df.shape"
   ]
  },
  {
   "cell_type": "markdown",
   "metadata": {},
   "source": [
    "So, after we have dropped all the categories and rows we don't want, I have some good data to work with. Later, I will vectorize this by turning each value to a numeric so that we can feed the data in as ~140 values into our model\n"
   ]
  },
  {
   "cell_type": "code",
   "execution_count": 15,
   "metadata": {},
   "outputs": [
    {
     "name": "stdout",
     "output_type": "stream",
     "text": [
      "dataframe shape:  (46206, 114)\n",
      "result shape:  46206\n"
     ]
    }
   ],
   "source": [
    "#creating a list/dict of results\n",
    "list_of_choices = []\n",
    "\n",
    "for prez in df['voted_pres_16']:\n",
    "    if prez not in list_of_choices:\n",
    "        list_of_choices.append(prez)\n",
    "count = 0\n",
    "president_vector = dict()\n",
    "for prez in list_of_choices:\n",
    "    president_vector[prez]=count\n",
    "    count+=1\n",
    "#giving dummy values to strings to fit our model\n",
    "result_series = df['voted_pres_16']\n",
    "df = df.drop(['voted_pres_16'], axis = 1)\n",
    "df = (pd.get_dummies(df))\n",
    "result_as_list = []\n",
    "for i in list(result_series):\n",
    "    result_as_list.append(president_vector[i])\n",
    "print('dataframe shape: ', df.shape)\n",
    "print('result shape: ', len(result_as_list))"
   ]
  },
  {
   "cell_type": "code",
   "execution_count": 16,
   "metadata": {},
   "outputs": [],
   "source": [
    "#splitting our data into training and test data. I'm using rows 1-39,000 as training and the rest as test data\n",
    "test_df = df[39000:]\n",
    "df = df[0:39000]\n",
    "test_result_as_list = result_as_list[39000:]\n",
    "result_as_list = result_as_list[0:39000]"
   ]
  },
  {
   "cell_type": "code",
   "execution_count": 18,
   "metadata": {},
   "outputs": [
    {
     "name": "stdout",
     "output_type": "stream",
     "text": [
      "<class 'numpy.int64'>\n"
     ]
    }
   ],
   "source": [
    "#converting result list into a list of numpy arrays with the same number(to compare with last layer of NN)\n",
    "for element in result_as_list:\n",
    "    element_vector = np.zeros((5,1))\n",
    "    element_vector[element]=1\n",
    "result_series = pd.Series(result_as_list)\n",
    "print(type(result_series[0]))"
   ]
  },
  {
   "cell_type": "markdown",
   "metadata": {},
   "source": [
    "Currently getting the model together and training it\n"
   ]
  },
  {
   "cell_type": "code",
   "execution_count": null,
   "metadata": {},
   "outputs": [],
   "source": []
  }
 ],
 "metadata": {
  "kernelspec": {
   "display_name": "Python 3",
   "language": "python",
   "name": "python3"
  },
  "language_info": {
   "codemirror_mode": {
    "name": "ipython",
    "version": 3
   },
   "file_extension": ".py",
   "mimetype": "text/x-python",
   "name": "python",
   "nbconvert_exporter": "python",
   "pygments_lexer": "ipython3",
   "version": "3.7.7"
  }
 },
 "nbformat": 4,
 "nbformat_minor": 4
}
